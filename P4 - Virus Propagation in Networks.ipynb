{
 "metadata": {
  "name": "P4 - Virus Propagation in Networks"
 },
 "nbformat": 3,
 "nbformat_minor": 0,
 "worksheets": [
  {
   "cells": [
    {
     "cell_type": "markdown",
     "metadata": {},
     "source": [
      "# Virus Propagation on Static Networks"
     ]
    },
    {
     "cell_type": "code",
     "collapsed": false,
     "input": [
      "\"\"\"\n",
      "Created on Sun Nov 24 17:49:17 2013\n",
      "@author: sagar jauhari\n",
      "\"\"\"\n",
      "from os.path import join\n",
      "from igraph import Graph\n",
      "import scipy.linalg\n",
      "import matplotlib.pyplot as plt\n",
      "\n",
      "pylab.rcParams['figure.figsize'] = 8, 4\n",
      "\n",
      "try:\n",
      "    from config import *\n",
      "except ImportError:\n",
      "    raise ImportError(\"Config file unavailable\")\n",
      "    \n",
      "def file2igraph(file):\n",
      "    \"\"\"\n",
      "    Converts graph file into iGraph object, adds artifacts\n",
      "    \"\"\"\n",
      "    with open(file, 'r') as fi:\n",
      "        v,e = fi.next().split()\n",
      "        e_list = [(int(i.split()[0]), int(i.split()[1])) for i in list(fi)]\n",
      "        assert (int(e) == len(e_list)),\\\n",
      "                    \"#edges mentioned and # of edges in file differ\"\n",
      "        g = Graph()\n",
      "        g.add_vertices(int(v))\n",
      "        g.add_edges(e_list)\n",
      "        return g"
     ],
     "language": "python",
     "metadata": {},
     "outputs": [],
     "prompt_number": 1
    },
    {
     "cell_type": "markdown",
     "metadata": {},
     "source": [
      "###Q1\n",
      "For the SIS (susceptible, infected, susceptible) Virus Propagation Model (VPM), with transmission probability \u03b2 = \u03b2 1 , and healing probability \u03b4 = \u03b4 1 , calculate the effective strength (s) of the virus on the static contact network provided (static.network). See supplementary material provided for details on the SIS VPM and on how to calculate the effective strength of a virus. Answer the following questions:"
     ]
    },
    {
     "cell_type": "code",
     "collapsed": false,
     "input": [
      "def get_larg_eig(graph):\n",
      "    M = len(list(graph.vs))\n",
      "    l_eig = scipy.linalg.eigh(graph.get_adjacency().data,\n",
      "                            eigvals_only=True,\n",
      "                            eigvals=(M-1, M-1))[0]\n",
      "    return l_eig\n",
      "\n",
      "def get_eff_strength(graph, b, d, l_eig=None):\n",
      "    if l_eig==None:\n",
      "        l_eig = get_larg_eig(graph)\n",
      "    return l_eig, l_eig*b/d\n",
      "\n",
      "graph = file2igraph(join(DATA_URL,'static.network'))\n",
      "larg_eig, eff_strength = get_eff_strength(graph, B1, D1)\n",
      "\n",
      "print 'Largest Eigen Value: %0.3f'% (larg_eig)\n",
      "print 'Effective Strength: %0.3f'%(eff_strength)"
     ],
     "language": "python",
     "metadata": {},
     "outputs": [
      {
       "output_type": "stream",
       "stream": "stdout",
       "text": [
        "Largest Eigen Value: 43.855\n",
        "Effective Strength: 12.530\n"
       ]
      }
     ],
     "prompt_number": 2
    },
    {
     "cell_type": "markdown",
     "metadata": {},
     "source": [
      "####a. Will the infection spread across the network (i.e., result on an epidemic), or will it die quickly?\n",
      "Since the Effective Strength is > 1, the virus will result in an epidemic"
     ]
    },
    {
     "cell_type": "markdown",
     "metadata": {},
     "source": [
      "####b. Keeping \u03b4 fixed, analyze how the value of \u03b2 affects the effective strength of the virus (suggestion: plot your results). What is the minimum transmission probability (\u03b2) that results in a network-wide epidemic?"
     ]
    },
    {
     "cell_type": "code",
     "collapsed": false,
     "input": [
      "def plot_change_beta(D, L1):\n",
      "    b = [i/100.0 for i in range(1,100)]\n",
      "    s = [get_eff_strength(graph, i, D, l_eig=larg_eig)[1] for i in b]\n",
      "    plt.plot(b,s,'o-')\n",
      "    plt.xlabel('Beta')\n",
      "    plt.ylabel('Effective Strength')\n",
      "    plt.show()\n",
      "plot_change_beta(D1, larg_eig)\n",
      "print 'Minimum Beta that results in network-wide epidemic: %03f' % (D1/larg_eig)"
     ],
     "language": "python",
     "metadata": {},
     "outputs": [
      {
       "output_type": "display_data",
       "png": "[encoded data removed]"
      },
      {
       "output_type": "stream",
       "stream": "stdout",
       "text": [
        "Minimum Beta that results in network-wide epidemic: 0.015962\n"
       ]
      }
     ],
     "prompt_number": 6
    },
    {
     "cell_type": "markdown",
     "metadata": {},
     "source": [
      "####c. Keeping \u03b2 fixed, analyze how the value of \u03b4 affects the effective strength of the virus (suggestion: plot your results). What is the maximum healing probability (\u03b4) that results in a network-wide epidemic?"
     ]
    },
    {
     "cell_type": "code",
     "collapsed": false,
     "input": [
      "def plot_change_delta(B, L1):\n",
      "    d = [i/100.0 for i in range(1,100)]\n",
      "    s = [get_eff_strength(graph, B, i, l_eig=larg_eig)[1] for i in d]\n",
      "    plt.plot(d,s,'o-')\n",
      "    plt.xlabel('Delta')\n",
      "    plt.ylabel('Effective Strength')\n",
      "    plt.show()\n",
      "    \n",
      "plot_change_delta(B1, larg_eig)\n",
      "print 'Maximum Delta that results in network-wide epidemic: %03f' % (B1*larg_eig)"
     ],
     "language": "python",
     "metadata": {},
     "outputs": [
      {
       "output_type": "display_data",
       "png": "[encoded data removed]"
      },
      {
       "output_type": "stream",
       "stream": "stdout",
       "text": [
        "Maximum Delta that results in network-wide epidemic: 8.770939\n"
       ]
      }
     ],
     "prompt_number": 7
    },
    {
     "cell_type": "markdown",
     "metadata": {},
     "source": [
      "####d. Repeat (1), (1a), (1b) and (1c) with \u03b2 = \u03b2 2 , and \u03b4 = \u03b4 2 ."
     ]
    },
    {
     "cell_type": "markdown",
     "metadata": {},
     "source": [
      "####Q2\n",
      "Write a program that simulates the propagation of a virus with the SIS VPM, given a static contact\n",
      "network, a transmission probability (\u03b2), a healing probability (\u03b4), a number of initially infected nodes\n",
      "(c), and a number of time steps to run the simulation (t). The initially infected nodes should be chosen\n",
      "from a random uniform probability distribution. At each time step, every susceptible (i.e., non-\n",
      "infected) node has a \u03b2 probability of being infected by neighboring infected nodes, and every infected\n",
      "node has a \u03b4 probability of healing and becoming susceptible again. Your program should also calculate\n",
      "the fraction of infected nodes at each time step.\n",
      "\n",
      "a. Run the simulation program 10 times for the static contact network provided (static.network),\n",
      "with \u03b2 = \u03b2 1 , \u03b4 = \u03b4 1 , c = n/10 (n is the number of nodes in the network), and t = 100.\n",
      "\n",
      "b. Plot the average (over the 10 simulations) fraction of infected nodes at each time step. Did the\n",
      "infection spread across the network, or did it die quickly? Do the results of the simulation agree\n",
      "with your conclusions in (1a)?\n",
      "\n",
      "c. Repeat (2a) and (2b) with \u03b2 = \u03b2 2 , and \u03b4 = \u03b4 2 ."
     ]
    },
    {
     "cell_type": "markdown",
     "metadata": {},
     "source": [
      "# Virus Propagation on Time-Varying Networks"
     ]
    }
   ],
   "metadata": {}
  }
 ]
}
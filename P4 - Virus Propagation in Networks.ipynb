{
 "metadata": {
  "name": "P4 - Virus Propagation in Networks"
 },
 "nbformat": 3,
 "nbformat_minor": 0,
 "worksheets": [
  {
   "cells": [
    {
     "cell_type": "markdown",
     "metadata": {},
     "source": [
      "# Virus Propagation in Networks\n",
      "Analysis of both **Static Networks** as well as **Alternating Networks** has been described in this report"
     ]
    },
    {
     "cell_type": "markdown",
     "metadata": {},
     "source": [
      "#1. Static Networks\n",
      "\n",
      "---"
     ]
    },
    {
     "cell_type": "code",
     "collapsed": false,
     "input": [
      "\"\"\"\n",
      "Created on Sun Nov 24 17:49:17 2013\n",
      "@author: sagar jauhari\n",
      "\"\"\"\n",
      "from os.path import join\n",
      "from igraph import Graph\n",
      "import scipy.linalg\n",
      "import matplotlib.pyplot as plt\n",
      "\n",
      "import vpm\n",
      "reload(vpm)\n",
      "\n",
      "pylab.rcParams['figure.figsize'] = 8, 4\n",
      "\n",
      "try:\n",
      "    from config import *\n",
      "except ImportError:\n",
      "    raise ImportError(\"Config file unavailable\")\n",
      "    \n",
      "def file2igraph(file):\n",
      "    \"\"\"\n",
      "    Converts graph file into iGraph object, adds artifacts\n",
      "    \"\"\"\n",
      "    with open(file, 'r') as fi:\n",
      "        v,e = fi.next().split()\n",
      "        e_list = [(int(i.split()[0]), int(i.split()[1])) for i in list(fi)]\n",
      "        assert (int(e) == len(e_list)),\\\n",
      "                    \"#edges mentioned and # of edges in file differ\"\n",
      "        g = Graph()\n",
      "        g.add_vertices(int(v))\n",
      "        g.add_edges(e_list)\n",
      "        return g"
     ],
     "language": "python",
     "metadata": {},
     "outputs": [],
     "prompt_number": 1
    },
    {
     "cell_type": "markdown",
     "metadata": {},
     "source": [
      "##1. Theoretical Analysis\n",
      "For the SIS (susceptible, infected, susceptible) Virus Propagation Model (VPM), with transmission probability \u03b2 = \u03b2 1 , and healing probability \u03b4 = \u03b4 1 , calculate the effective strength (s) of the virus on the static contact network provided (static.network). See supplementary material provided for details on the SIS VPM and on how to calculate the effective strength of a virus. Answer the following questions:"
     ]
    },
    {
     "cell_type": "code",
     "collapsed": false,
     "input": [
      "\"\"\"\n",
      "scipy.linalg.eigh\n",
      "@param eigvals : tuple (lo, hi), optional\n",
      "\n",
      "    Indexes of the smallest and largest (in ascending \n",
      "    order) eigenvalues and corresponding eigenvectors \n",
      "    to be returned: 0 <= lo <= hi <= M-1. If omitted, \n",
      "    all eigenvalues and eigenvectors are returned.\n",
      "\n",
      "\"\"\"\n",
      "def get_larg_eig(graph):\n",
      "    M = len(list(graph.vs))\n",
      "    l_eig = scipy.linalg.eigh(graph.get_adjacency().data,\n",
      "                            eigvals_only=True,\n",
      "                            eigvals=(M-1, M-1))\n",
      "    return l_eig[0]\n",
      "\n",
      "def get_eff_strength(graph, b, d, l_eig=None):\n",
      "    if l_eig==None:\n",
      "        l_eig = get_larg_eig(graph)\n",
      "    return l_eig, l_eig*b/d\n",
      "\n",
      "graph = file2igraph(join(DATA_URL,'static.network'))"
     ],
     "language": "python",
     "metadata": {},
     "outputs": [],
     "prompt_number": 3
    },
    {
     "cell_type": "code",
     "collapsed": false,
     "input": [
      "larg_eig, eff_strength = get_eff_strength(graph, B1, D1)\n",
      "\n",
      "print 'Largest Eigen Value: %0.3f'% (larg_eig)\n",
      "print 'Effective Strength: %0.3f'%(eff_strength)"
     ],
     "language": "python",
     "metadata": {},
     "outputs": [
      {
       "output_type": "stream",
       "stream": "stdout",
       "text": [
        "Largest Eigen Value: 43.855\n",
        "Effective Strength: 12.530\n"
       ]
      }
     ],
     "prompt_number": 3
    },
    {
     "cell_type": "markdown",
     "metadata": {},
     "source": [
      "####a. Will the infection spread across the network (i.e., result on an epidemic), or will it die quickly?\n",
      "Since the Effective Strength is > 1, the virus will result in an epidemic"
     ]
    },
    {
     "cell_type": "markdown",
     "metadata": {},
     "source": [
      "####b. Keeping \u03b4 fixed, analyze how the value of \u03b2 affects the effective strength of the virus (suggestion: plot your results). What is the minimum transmission probability (\u03b2) that results in a network-wide epidemic?"
     ]
    },
    {
     "cell_type": "code",
     "collapsed": false,
     "input": [
      "def plot_change_beta(D, L1):\n",
      "    b = [i/100.0 for i in range(1,100)]\n",
      "    s = [get_eff_strength(graph, i, D, l_eig=larg_eig)[1] for i in b]\n",
      "    plt.plot(b,s,'o-')\n",
      "    plt.xlabel('Beta')\n",
      "    plt.ylabel('Effective Strength')\n",
      "    plt.show()\n",
      "plot_change_beta(D1, larg_eig)\n",
      "print 'Minimum Beta that results in network-wide epidemic: %03f' % (D1/larg_eig)"
     ],
     "language": "python",
     "metadata": {},
     "outputs": [
      {
       "output_type": "display_data",
       "png": "[encoded data removed]"
      },
      {
       "output_type": "stream",
       "stream": "stdout",
       "text": [
        "Minimum Beta that results in network-wide epidemic: 0.015962\n"
       ]
      }
     ],
     "prompt_number": 4
    },
    {
     "cell_type": "markdown",
     "metadata": {},
     "source": [
      "####c. Keeping \u03b2 fixed, analyze how the value of \u03b4 affects the effective strength of the virus (suggestion: plot your results). What is the maximum healing probability (\u03b4) that results in a network-wide epidemic?"
     ]
    },
    {
     "cell_type": "code",
     "collapsed": false,
     "input": [
      "def plot_change_delta(B, L1):\n",
      "    d = [i/100.0 for i in range(1,100)]\n",
      "    s = [get_eff_strength(graph, B, i, l_eig=larg_eig)[1] for i in d]\n",
      "    plt.plot(d,s,'o-')\n",
      "    plt.xlabel('Delta')\n",
      "    plt.ylabel('Effective Strength')\n",
      "    plt.show()\n",
      "    \n",
      "plot_change_delta(B1, larg_eig)\n",
      "print 'Maximum Delta that results in network-wide epidemic: %03f' % (B1*larg_eig)"
     ],
     "language": "python",
     "metadata": {},
     "outputs": [
      {
       "output_type": "display_data",
       "png": "[encoded data removed]"
      },
      {
       "output_type": "stream",
       "stream": "stdout",
       "text": [
        "Maximum Delta that results in network-wide epidemic: 8.770939\n"
       ]
      }
     ],
     "prompt_number": 5
    },
    {
     "cell_type": "markdown",
     "metadata": {},
     "source": [
      "####d. Repeat (1), (1a), (1b) and (1c) with \u03b2 = \u03b2 2 , and \u03b4 = \u03b4 2 ."
     ]
    },
    {
     "cell_type": "code",
     "collapsed": false,
     "input": [
      "larg_eig, eff_strength = get_eff_strength(graph, B2, D2)\n",
      "print 'Largest Eigen Value: %0.3f'% (larg_eig)\n",
      "print 'Effective Strength: %0.3f'%(eff_strength)"
     ],
     "language": "python",
     "metadata": {},
     "outputs": [
      {
       "output_type": "stream",
       "stream": "stdout",
       "text": [
        "Largest Eigen Value: 43.855\n",
        "Effective Strength: 0.731\n"
       ]
      }
     ],
     "prompt_number": 6
    },
    {
     "cell_type": "markdown",
     "metadata": {},
     "source": [
      "Since effective strength is < 1, there will never be an epidemic"
     ]
    },
    {
     "cell_type": "code",
     "collapsed": false,
     "input": [
      "plot_change_beta(D2, larg_eig)\n",
      "print 'Minimum Beta that results in network-wide epidemic: %03f' % (D2/larg_eig)"
     ],
     "language": "python",
     "metadata": {},
     "outputs": [
      {
       "output_type": "display_data",
       "png": "[encoded data removed]"
      },
      {
       "output_type": "stream",
       "stream": "stdout",
       "text": [
        "Minimum Beta that results in network-wide epidemic: 0.013682\n"
       ]
      }
     ],
     "prompt_number": 7
    },
    {
     "cell_type": "code",
     "collapsed": false,
     "input": [
      "plot_change_delta(B2, larg_eig)\n",
      "print 'Maximum Delta that results in network-wide epidemic: %03f' % (B2*larg_eig)"
     ],
     "language": "python",
     "metadata": {},
     "outputs": [
      {
       "output_type": "display_data",
       "png": "[encoded data removed]"
      },
      {
       "output_type": "stream",
       "stream": "stdout",
       "text": [
        "Maximum Delta that results in network-wide epidemic: 0.438547\n"
       ]
      }
     ],
     "prompt_number": 8
    },
    {
     "cell_type": "markdown",
     "metadata": {},
     "source": [
      "##2. Simulation\n",
      "Write a program that simulates the propagation of a virus with the SIS VPM, given a static contact\n",
      "network, a transmission probability (\u03b2), a healing probability (\u03b4), a number of initially infected nodes\n",
      "(c), and a number of time steps to run the simulation (t). The initially infected nodes should be chosen\n",
      "from a random uniform probability distribution. At each time step, every susceptible (i.e., non-\n",
      "infected) node has a \u03b2 probability of being infected by neighboring infected nodes, and every infected\n",
      "node has a \u03b4 probability of healing and becoming susceptible again. Your program should also calculate\n",
      "the fraction of infected nodes at each time step.\n",
      "\n",
      "####a. Run the simulation program 10 times for the static contact network provided (static.network), with \u03b2 = \u03b2 1 , \u03b4 = \u03b4 1 , c = n/10 (n is the number of nodes in the network), and t = 100."
     ]
    },
    {
     "cell_type": "code",
     "collapsed": false,
     "input": [
      "# simulation program written in file 'vmp.py'\n",
      "reload(vpm)\n",
      "result = vpm.run_simulation('SIS', 10, graph, B1, D1, 0.1, 100)"
     ],
     "language": "python",
     "metadata": {},
     "outputs": [
      {
       "output_type": "stream",
       "stream": "stdout",
       "text": [
        "Running simulation 10 times\n",
        "Nodes initially infected: 571"
       ]
      },
      {
       "output_type": "stream",
       "stream": "stdout",
       "text": [
        "\n",
        "Avg. Nodes finally infected: 975\n",
        "Virus has caused an epidemic\n"
       ]
      }
     ],
     "prompt_number": 6
    },
    {
     "cell_type": "markdown",
     "metadata": {},
     "source": [
      "####b. Plot the average (over the 10 simulations) fraction of infected nodes at each time step. Did the infection spread across the network, or did it die quickly? Do the results of the simulation agree with your conclusions in (1a)?"
     ]
    },
    {
     "cell_type": "code",
     "collapsed": false,
     "input": [
      "plt.plot(result)\n",
      "plt.xlabel('Time')\n",
      "plt.ylabel('Infected Nodes')plt.plot(result)\n",
      "plt.xlabel('Time')\n",
      "plt.ylabel('Infected Nodes')"
     ],
     "language": "python",
     "metadata": {},
     "outputs": [
      {
       "output_type": "pyout",
       "prompt_number": 7,
       "text": [
        "<matplotlib.text.Text at 0x3cda690>"
       ]
      },
      {
       "output_type": "display_data",
       "png": "[encoded data removed]"
      }
     ],
     "prompt_number": 7
    },
    {
     "cell_type": "markdown",
     "metadata": {},
     "source": [
      "The infection in the network spread and did not die.\n",
      "\n",
      "Yes, the results of the simulation agree with the answer of 1(a) - infection resulted in an epidemic!"
     ]
    },
    {
     "cell_type": "markdown",
     "metadata": {},
     "source": [
      "####c. Repeat (2a) and (2b) with \u03b2 = \u03b2 2 , and \u03b4 = \u03b4 2 ."
     ]
    },
    {
     "cell_type": "code",
     "collapsed": false,
     "input": [
      "result = vpm.run_simulation('SIS', 10, graph, B2, D2, 0.1, 100)\n",
      "plot(result)\n",
      "plt.xlabel('Time')\n",
      "plt.ylabel('Infected Nodes')"
     ],
     "language": "python",
     "metadata": {},
     "outputs": [
      {
       "output_type": "stream",
       "stream": "stdout",
       "text": [
        "Running simulation 10 times\n",
        "Nodes initially infected: 571"
       ]
      },
      {
       "output_type": "stream",
       "stream": "stdout",
       "text": [
        "\n",
        "Avg. Nodes finally infected: 0\n",
        "Virus epidemic has been prevented\n"
       ]
      },
      {
       "output_type": "pyout",
       "prompt_number": 8,
       "text": [
        "<matplotlib.text.Text at 0x3ce7910>"
       ]
      },
      {
       "output_type": "display_data",
       "png": "[encoded data removed]"
      }
     ],
     "prompt_number": 8
    },
    {
     "cell_type": "markdown",
     "metadata": {},
     "source": [
      "The infection in the network quickly died out.\n",
      "\n",
      "Yes, the results of the simulation agree with the answer of 1(d) - infection did not result in an epidemic but quickly died out."
     ]
    },
    {
     "cell_type": "markdown",
     "metadata": {},
     "source": [
      "##3. Immunization Policy\n",
      "Write a program that implements an immunization policy to prevent the virus from spreading across\n",
      "the network. Given a number of available vaccines (k) and a contact network, your program should\n",
      "select k nodes to immunize. The immunized nodes (and their incident edges) are then removed from\n",
      "the contact network.  "
     ]
    },
    {
     "cell_type": "markdown",
     "metadata": {},
     "source": [
      "####a. What do you think would be the optimal immunization policy? What would be its time complexity? Would it be reasonable to implement this policy? Justify.\n",
      "The optimal immunization policy would be to select k nodes whose removal will cause the largest drop in the value of \u03bb 1 for immunization (largest eigen-drop). But the time complexity of this algorithm is very high!"
     ]
    },
    {
     "cell_type": "markdown",
     "metadata": {},
     "source": [
      "####For your program, use the following heuristic immunization policies:\n",
      "\n",
      "- Policy A: Select k random nodes for immunization.\n",
      "- Policy B: Select the k nodes with highest degree for immunization.\n",
      "- Policy C: Select the node with the highest degree for immunization. Remove this node (and its incident edges) from the contact network. Repeat until all vaccines are administered.\n",
      "- Policy D: Find the eigenvector corresponding to the largest eigenvalue of the contact network\u2019s adjacency matrix. Find the k largest (absolute) values in the eigenvector. Select the k nodes at the corresponding positions in the eigenvector.\n",
      "\n",
      "####For each heuristic immunization policy (A, B, C, and D) and for the static contact network provided\n",
      "(static.network), answer the following questions:\n",
      "\n",
      "b. What do you think is the intuition behind this heuristic?\n",
      "\n",
      "c. Write a pseudocode for this heuristic immunization policy. What is its time complexity?\n",
      "\n",
      "d. Given k = k 1 , \u03b2 = \u03b2 1 , and \u03b4 = \u03b4 1 , calculate the effective strength (s) of the virus on the immunized\n",
      "contact network (i.e., contact network without immunized nodes). Did the immunization policy\n",
      "prevented a network-wide epidemic?\n",
      "\n",
      "e. Keeping \u03b2 and \u03b4 fixed, analyze how the value of k affects the effective strength of the virus on\n",
      "the immunized contact network (suggestion: plot your results). Estimate the minimum number\n",
      "of vaccines necessary to prevent a network-wide epidemic.\n",
      "\n",
      "f. Given k = k 1 , \u03b2 = \u03b2 1 , \u03b4 = \u03b4 1 , c = n/10, and t = 100, run the simulation from problem (2) for the\n",
      "immunized contact network 10 times. Plot the average fraction of infected nodes at each time\n",
      "step. Do the results of the simulation agree with your conclusions in (3d)?"
     ]
    },
    {
     "cell_type": "markdown",
     "metadata": {},
     "source": [
      "### Policy A\n",
      "\n",
      "----\n",
      "#### Intuition\n",
      "Select k nodes randomly. If we use this strategy on a lot of graphs, at least some times we will be able to contain the epidemic  "
     ]
    },
    {
     "cell_type": "markdown",
     "metadata": {},
     "source": [
      "#### Pseudo Code\n",
      "<pre>\n",
      "def immun_random(graph, k):\n",
      "    N = Number of nodes in graph\n",
      "    nodes = random.sample(range(N), k)\n",
      "    graph.delete_vertices(nodes)\n",
      "    return graph\n",
      "</pre>\n",
      "#### Effective Strength"
     ]
    },
    {
     "cell_type": "code",
     "collapsed": false,
     "input": [
      "reload(vpm)\n",
      "larg_eig, eff_strength = vpm.sis_vpm_simulate(graph, \n",
      "                B1, D1, \n",
      "                None, None,\n",
      "                immunize='policy_a', \n",
      "                k=K1,\n",
      "                run_simulate=False)\n",
      "print 'Largest Eigen Value: %0.3f'% (larg_eig)\n",
      "print 'Effective Strength: %0.3f'%(eff_strength)"
     ],
     "language": "python",
     "metadata": {},
     "outputs": [
      {
       "output_type": "stream",
       "stream": "stdout",
       "text": [
        "Largest Eigen Value: 42.770\n",
        "Effective Strength: 12.220\n"
       ]
      }
     ],
     "prompt_number": 9
    },
    {
     "cell_type": "markdown",
     "metadata": {},
     "source": [
      "The effective strength of the virus is still very high and the epidemic will not be contained."
     ]
    },
    {
     "cell_type": "markdown",
     "metadata": {},
     "source": [
      "#### Analysis of k\n",
      "Keeping \u03b2 and \u03b4 fixed, analyze how the value of k affects the effective strength of the virus on\n",
      "the immunized contact network (suggestion: plot your results). Estimate the minimum number\n",
      "of vaccines necessary to prevent a network-wide epidemic."
     ]
    },
    {
     "cell_type": "code",
     "collapsed": false,
     "input": [
      "k_list = [4500 + i*100 for i in range(10)]\n",
      "strens = vpm.num_vaccince_analysis(graph, B1, D1,'policy_a',k_list)\n",
      "plot(k_list, strens, 'o-')\n",
      "plt.xlabel('Immunized Nodes')\n",
      "plt.ylabel('Effective strength of virus')"
     ],
     "language": "python",
     "metadata": {},
     "outputs": [
      {
       "output_type": "pyout",
       "prompt_number": 11,
       "text": [
        "<matplotlib.text.Text at 0x49fb510>"
       ]
      },
      {
       "output_type": "display_data",
       "png": "[encoded data removed]"
      }
     ],
     "prompt_number": 11
    },
    {
     "cell_type": "markdown",
     "metadata": {},
     "source": [
      "Analysis shows that a very large number of vaccines will be required to prevent the epidemic: ~5200 - 5300"
     ]
    },
    {
     "cell_type": "markdown",
     "metadata": {},
     "source": [
      "#### Simulation of immunized network\n",
      "Given k = k 1 , \u03b2 = \u03b2 1 , \u03b4 = \u03b4 1 , c = n/10, and t = 100, run the simulation from problem (2) for the\n",
      "immunized contact network 10 times. Plot the average fraction of infected nodes at each time\n",
      "step. Do the results of the simulation agree with your conclusions in (3d)?"
     ]
    },
    {
     "cell_type": "code",
     "collapsed": false,
     "input": [
      "reload(vpm)\n",
      "result_a = vpm.run_simulation('SIS', 10, graph,\n",
      "                            B1, D1, 0.1, 100, \n",
      "                            immunize='policy_a', k=K1)\n",
      "plot(result_a)\n",
      "plt.xlabel('Time')\n",
      "plt.ylabel('Infected Nodes')"
     ],
     "language": "python",
     "metadata": {},
     "outputs": [
      {
       "output_type": "stream",
       "stream": "stdout",
       "text": [
        "Running simulation 10 times\n",
        "Nodes initially infected: 551"
       ]
      },
      {
       "output_type": "stream",
       "stream": "stdout",
       "text": [
        "\n",
        "Avg. Nodes finally infected: 935\n",
        "Virus has caused an epidemic\n"
       ]
      },
      {
       "output_type": "pyout",
       "prompt_number": 6,
       "text": [
        "<matplotlib.text.Text at 0x353f110>"
       ]
      },
      {
       "output_type": "display_data",
       "png": "[encoded data removed]"
      }
     ],
     "prompt_number": 6
    },
    {
     "cell_type": "markdown",
     "metadata": {},
     "source": [
      "Yes, the simulataion results agree with the conclusion based on effective strength of virus"
     ]
    },
    {
     "cell_type": "markdown",
     "metadata": {},
     "source": [
      "### Policy B\n",
      "\n",
      "----\n",
      "#### Intuition\n",
      "The idea is to remove nodes of highest degree. By doing this, we're making sure that the average degree of the nodes of the graph decreases so we make it difficult for the virus to propagate"
     ]
    },
    {
     "cell_type": "markdown",
     "metadata": {},
     "source": [
      "#### Pseudo Code\n",
      "<pre>\n",
      "def immun_highest_degree(graph, k):\n",
      "    N = Number of nodes in graph\n",
      "    degrees = [graph.degree(i) for i in range(N)]\n",
      "    nodes = list(np.argsort(degrees)[-k:])\n",
      "    graph.delete_vertices(nodes)\n",
      "    return graph\n",
      "</pre>\n",
      "#### Effective Strength"
     ]
    },
    {
     "cell_type": "code",
     "collapsed": false,
     "input": [
      "blarg_eig, eff_strength = vpm.sis_vpm_simulate(graph, \n",
      "                B1, D1, \n",
      "                None, None,\n",
      "                immunize='policy_b', \n",
      "                k=K1,\n",
      "                run_simulate=False)\n",
      "print 'Largest Eigen Value: %0.3f'% (larg_eig)\n",
      "print 'Effective Strength: %0.3f'%(eff_strength)"
     ],
     "language": "python",
     "metadata": {},
     "outputs": [
      {
       "output_type": "stream",
       "stream": "stdout",
       "text": [
        "Largest Eigen Value: 3.713\n",
        "Effective Strength: 1.061\n"
       ]
      }
     ],
     "prompt_number": 9
    },
    {
     "cell_type": "markdown",
     "metadata": {},
     "source": [
      "The effective strength of the virus has reduced drastically after immunization (~1) and the virus should be contained."
     ]
    },
    {
     "cell_type": "markdown",
     "metadata": {},
     "source": [
      "#### Analysis of k\n",
      "Keeping \u03b2 and \u03b4 fixed, analyze how the value of k affects the effective strength of the virus on\n",
      "the immunized contact network (suggestion: plot your results). Estimate the minimum number\n",
      "of vaccines necessary to prevent a network-wide epidemic."
     ]
    },
    {
     "cell_type": "code",
     "collapsed": false,
     "input": [
      "k_list = [i*50 for i in range(4,8)]\n",
      "strens = vpm.num_vaccince_analysis(graph, B1, D1,'policy_b',k_list)\n",
      "plot(k_list, strens, 'o-')\n",
      "plt.xlabel('Immunized Nodes')\n",
      "plt.ylabel('Effective strength of virus')"
     ],
     "language": "python",
     "metadata": {},
     "outputs": [
      {
       "output_type": "pyout",
       "prompt_number": 20,
       "text": [
        "[<matplotlib.lines.Line2D at 0x2c1c99d0>]"
       ]
      },
      {
       "output_type": "display_data",
       "png": "[encoded data removed]"
      }
     ],
     "prompt_number": 20
    },
    {
     "cell_type": "markdown",
     "metadata": {},
     "source": [
      "Analysis shows that the number of vaccines required to prevent the epidemic: ~200 - 250"
     ]
    },
    {
     "cell_type": "markdown",
     "metadata": {},
     "source": [
      "#### Simulation of immunized network\n",
      "Given k = k 1 , \u03b2 = \u03b2 1 , \u03b4 = \u03b4 1 , c = n/10, and t = 100, run the simulation from problem (2) for the\n",
      "immunized contact network 10 times. Plot the average fraction of infected nodes at each time\n",
      "step. Do the results of the simulation agree with your conclusions in (3d)?"
     ]
    },
    {
     "cell_type": "code",
     "collapsed": false,
     "input": [
      "result = vpm.run_simulation('SIS', 10, graph,\n",
      "                            B1, D1, 0.1, 100, \n",
      "                            immunize='policy_b', k=K1)\n",
      "plot(result)\n",
      "plt.xlabel('Time')\n",
      "plt.ylabel('Infected Nodes')"
     ],
     "language": "python",
     "metadata": {},
     "outputs": [
      {
       "output_type": "stream",
       "stream": "stdout",
       "text": [
        "Running simulation 10 times\n"
       ]
      },
      {
       "output_type": "pyout",
       "prompt_number": 15,
       "text": [
        "<matplotlib.text.Text at 0x15e1fc90>"
       ]
      },
      {
       "output_type": "display_data",
       "png": "[encoded data removed]"
      }
     ],
     "prompt_number": 15
    },
    {
     "cell_type": "markdown",
     "metadata": {},
     "source": [
      "Yes, the simulataion results agree with the conclusion based on effective strength of virus"
     ]
    },
    {
     "cell_type": "markdown",
     "metadata": {},
     "source": [
      "### Policy C\n",
      "\n",
      "---\n",
      "#### Intuition\n",
      "Unlike the previous method where 'k' highest degrees are removed all together, this policy follows an iterative approach. After removing the node of highest degree from the graph, it recalculates the degree of each node to find out the new node of highest degree. This is computationally more expensive than the previous policy by theoretically better in reducing the average connectivity of the graph "
     ]
    },
    {
     "cell_type": "markdown",
     "metadata": {},
     "source": [
      "#### Pseudo Code\n",
      "<pre>\n",
      "def immun_highest_degree_iterative(graph, k):\n",
      "    N = Number of nodes in graph\n",
      "    for _i in range(k):\n",
      "        Remove highest degree node\n",
      "    return graph\n",
      "</pre>\n",
      "#### Effective Strength"
     ]
    },
    {
     "cell_type": "code",
     "collapsed": false,
     "input": [
      "clarg_eig, eff_strength = vpm.sis_vpm_simulate(graph, \n",
      "                B1, D1, \n",
      "                None, None,\n",
      "                immunize='policy_c', \n",
      "                k=K1,\n",
      "                run_simulate=False)\n",
      "print 'Largest Eigen Value: %0.3f'% (larg_eig)\n",
      "print 'Effective Strength: %0.3f'%(eff_strength)"
     ],
     "language": "python",
     "metadata": {},
     "outputs": [
      {
       "output_type": "stream",
       "stream": "stdout",
       "text": [
        "Largest Eigen Value: 2.042\n",
        "Effective Strength: 0.583\n"
       ]
      }
     ],
     "prompt_number": 20
    },
    {
     "cell_type": "markdown",
     "metadata": {},
     "source": [
      "The effective strength of the virus has reduced drastically after immunization ( < 1 ) and the epidemic would be prevented in most cases."
     ]
    },
    {
     "cell_type": "markdown",
     "metadata": {},
     "source": [
      "#### Analysis of k\n",
      "Keeping \u03b2 and \u03b4 fixed, analyze how the value of k affects the effective strength of the virus on\n",
      "the immunized contact network (suggestion: plot your results). Estimate the minimum number\n",
      "of vaccines necessary to prevent a network-wide epidemic."
     ]
    },
    {
     "cell_type": "code",
     "collapsed": false,
     "input": [
      "k_list = [i*10 for i in range(14,25)]\n",
      "strens = vpm.num_vaccince_analysis(graph, B1, D1,'policy_c',k_list)\n",
      "plot(k_list, strens, 'o-')\n",
      "plt.xlabel('Immunized Nodes')\n",
      "plt.ylabel('Effective strength of virus')"
     ],
     "language": "python",
     "metadata": {},
     "outputs": [
      {
       "output_type": "pyout",
       "prompt_number": 25,
       "text": [
        "<matplotlib.text.Text at 0xd1f48d0>"
       ]
      },
      {
       "output_type": "display_data",
       "png": "[encoded data removed]"
      }
     ],
     "prompt_number": 25
    },
    {
     "cell_type": "markdown",
     "metadata": {},
     "source": [
      "Analysis shows that the number of vaccines required to prevent the epidemic: ~220 - 230"
     ]
    },
    {
     "cell_type": "markdown",
     "metadata": {},
     "source": [
      "#### Simulation of immunized network\n",
      "Given k = k 1 , \u03b2 = \u03b2 1 , \u03b4 = \u03b4 1 , c = n/10, and t = 100, run the simulation from problem (2) for the\n",
      "immunized contact network 10 times. Plot the average fraction of infected nodes at each time\n",
      "step. Do the results of the simulation agree with your conclusions in (3d)?"
     ]
    },
    {
     "cell_type": "code",
     "collapsed": false,
     "input": [
      "result = vpm.run_simulation('SIS', 10, graph,\n",
      "                            B1, D1, 0.1, 100, \n",
      "                            immunize='policy_c', k=K1)\n",
      "plot(result)\n",
      "plt.xlabel('Time')\n",
      "plt.ylabel('Infected Nodes')"
     ],
     "language": "python",
     "metadata": {},
     "outputs": [
      {
       "output_type": "stream",
       "stream": "stdout",
       "text": [
        "Running simulation 10 times\n"
       ]
      },
      {
       "output_type": "pyout",
       "prompt_number": 16,
       "text": [
        "<matplotlib.text.Text at 0x41547d0>"
       ]
      },
      {
       "output_type": "display_data",
       "png": "[encoded data removed]"
      }
     ],
     "prompt_number": 16
    },
    {
     "cell_type": "markdown",
     "metadata": {},
     "source": [
      "Yes, the simulataion results agree with the conclusion based on effective strength of virus"
     ]
    },
    {
     "cell_type": "markdown",
     "metadata": {},
     "source": [
      "### Policy D\n",
      "\n",
      "---\n",
      "#### Intuition\n",
      "This policy is a very simplified version of the NetShield algorithm. The idea is to remove then nodes corresponding to the largest values in the eigen vector of the largest eigen value. By removing the nodes, it is expected that the largest eigen value and thus decrease in the effective strength of the virus"
     ]
    },
    {
     "cell_type": "markdown",
     "metadata": {},
     "source": [
      "#### Pseudo Code\n",
      "<pre>\n",
      "def immun_largest_eigen_vec(graph, k):\n",
      "    N = Number of nodes in graph\n",
      "    l_eig = Largest igen value\n",
      "    l_eig_vec =  Eigen vector of largest eigen value\n",
      "    nodes = Find index of 'k' largest values in l_eig_vec\n",
      "    graph.delete_vertices(nodes)\n",
      "    return graph\n",
      "</pre>\n",
      "#### Effective Strength"
     ]
    },
    {
     "cell_type": "code",
     "collapsed": false,
     "input": [
      "larg_eig, eff_strength = vpm.sis_vpm_simulate(graph, \n",
      "                B1, D1, \n",
      "                None, None,\n",
      "                immunize='policy_d', \n",
      "                k=K1,\n",
      "                run_simulate=False)\n",
      "print 'Largest Eigen Value: %0.3f'% (larg_eig)\n",
      "print 'Effective Strength: %0.3f'%(eff_strength)"
     ],
     "language": "python",
     "metadata": {},
     "outputs": [
      {
       "output_type": "stream",
       "stream": "stdout",
       "text": [
        "Largest Eigen Value: 2.042\n",
        "Effective Strength: 0.583\n"
       ]
      }
     ],
     "prompt_number": 21
    },
    {
     "cell_type": "markdown",
     "metadata": {},
     "source": [
      "#### Analysis of k\n",
      "Keeping \u03b2 and \u03b4 fixed, analyze how the value of k affects the effective strength of the virus on\n",
      "the immunized contact network (suggestion: plot your results). Estimate the minimum number\n",
      "of vaccines necessary to prevent a network-wide epidemic."
     ]
    },
    {
     "cell_type": "code",
     "collapsed": false,
     "input": [
      "k_list = [i*10 for i in range(35, 44)]\n",
      "strens = vpm.num_vaccince_analysis(graph, B1, D1,'policy_d',k_list)\n",
      "plot(k_list, strens, 'o-')\n",
      "plt.xlabel('Immunized Nodes')\n",
      "plt.ylabel('Effective strength of virus')"
     ],
     "language": "python",
     "metadata": {},
     "outputs": [
      {
       "output_type": "pyout",
       "prompt_number": 29,
       "text": [
        "<matplotlib.text.Text at 0x9727310>"
       ]
      },
      {
       "output_type": "display_data",
       "png": "[encoded data removed]"
      }
     ],
     "prompt_number": 29
    },
    {
     "cell_type": "markdown",
     "metadata": {},
     "source": [
      "Analysis shows that the number of vaccines required to prevent the epidemic: ~420 - 430"
     ]
    },
    {
     "cell_type": "markdown",
     "metadata": {},
     "source": [
      "#### Simulation of immunized network\n",
      "Given k = k 1 , \u03b2 = \u03b2 1 , \u03b4 = \u03b4 1 , c = n/10, and t = 100, run the simulation from problem (2) for the\n",
      "immunized contact network 10 times. Plot the average fraction of infected nodes at each time\n",
      "step. Do the results of the simulation agree with your conclusions in (3d)?"
     ]
    },
    {
     "cell_type": "code",
     "collapsed": false,
     "input": [
      "result_a = vpm.run_simulation('SIS', 10, graph,\n",
      "                            B1, D1, 0.1, 100, \n",
      "                            immunize='policy_d', k=K1)\n",
      "plot(result_a)\n",
      "plt.xlabel('Time')\n",
      "plt.ylabel('Infected Nodes')"
     ],
     "language": "python",
     "metadata": {},
     "outputs": [
      {
       "output_type": "stream",
       "stream": "stdout",
       "text": [
        "Running simulation 10 times\n"
       ]
      },
      {
       "output_type": "pyout",
       "prompt_number": 22,
       "text": [
        "<matplotlib.text.Text at 0xa292f90>"
       ]
      },
      {
       "output_type": "display_data",
       "png": "[encoded data removed]"
      }
     ],
     "prompt_number": 22
    },
    {
     "cell_type": "markdown",
     "metadata": {},
     "source": [
      "Yes, the simulataion results agree with the conclusion based on effective strength of virus"
     ]
    },
    {
     "cell_type": "markdown",
     "metadata": {},
     "source": [
      "#2. Virus Propagation on Time-Varying Networks"
     ]
    },
    {
     "cell_type": "markdown",
     "metadata": {},
     "source": [
      "4. Repeat problem (1) using the set of 2 alternating contact networks provided (alternating1.network and\n",
      "alternating2.network). See supplementary material provided for details on how to calculate the\n",
      "effective strength of a virus for time-varying contact networks. Answer questions (1), (1a), (1b), (1c),\n",
      "and (1d).\n",
      "\n",
      "\n",
      "5. Extend your virus propagation simulation program from problem (2) to allow time-varying graphs. Your\n",
      "modified program will be given a set of T alternating contact networks, a transmission probability (\u03b2), a\n",
      "healing probability (\u03b4), a number of initially infected nodes (c), and a number of time steps to run the\n",
      "simulation (t). Your program should alternate between contact networks at each time step. That is, at a\n",
      "given time step t i , for i \u2208 [0, t), your program should simulate the propagation of the virus on\n",
      "alternating contact network (t i mod T) + 1.\n",
      "For the modified virus propagation simulation program, and the set of 2 alternating contact networks\n",
      "provided (alternating1.network and alternating2.network), answer questions (2a), (2b), and (2c).\n",
      "\n",
      "\n",
      "6. Extend your immunization policy program from problem (3) to allow time-varying graphs. Your\n",
      "modified program will be given a set of T alternating contact networks and a number of available\n",
      "vaccines (k). Answer question (3a).\n",
      "For your program, use the following heuristic immunization policies:\n",
      "- Policy A: Select k random nodes for immunization.\n",
      "- Policy B: Select the k nodes with highest average degree across all alternating contact networks for\n",
      "immunization.\n",
      "- Policy C: Select the node with the highest degree out of all the alternating contact networks for\n",
      "immunization. Remove this node (and its incident edges) from all the alternating contact networks.\n",
      "Repeat until all vaccines are administered.\n",
      "- Policy D: Find the eigenvector corresponding to the largest eigenvalue of the system-matrix (see\n",
      "supplementary materials for details on the system-matrix). Find the k largest (absolute) values in\n",
      "the eigenvector. Select the k nodes at the corresponding positions in the eigenvector.For each heuristic immunization policy (A, B, C, and D) and for the set of 2 alternating contact networks\n",
      "provided (alternating1.network and alternating2.network), answer questions (3b), (3c), (3d), and (3e)."
     ]
    },
    {
     "cell_type": "markdown",
     "metadata": {},
     "source": [
      "##1. Theoretical Analysis\n",
      "For the SIS (susceptible, infected, susceptible) Virus Propagation Model (VPM), with transmission probability \u03b2 = \u03b2 1 , and healing probability \u03b4 = \u03b4 1 , calculate the effective strength (s) of the virus on the static contact network provided (static.network). See supplementary material provided for details on the SIS VPM and on how to calculate the effective strength of a virus. Answer the following questions:"
     ]
    },
    {
     "cell_type": "code",
     "collapsed": false,
     "input": [
      "graph1 = file2igraph(join(DATA_URL,'alternating1.network'))\n",
      "graph2 = file2igraph(join(DATA_URL,'alternating1.network'))\n",
      "\n",
      "reload(vpm)\n",
      "acn = vpm.Alternating_Networks()"
     ],
     "language": "python",
     "metadata": {},
     "outputs": [],
     "prompt_number": 2
    },
    {
     "cell_type": "code",
     "collapsed": false,
     "input": [
      "eff_strength = acn.get_eff_strength(graph1, graph2, B1, D1)\n",
      "print 'Effective Strength: %0.3f'%(eff_strength)"
     ],
     "language": "python",
     "metadata": {},
     "outputs": [
      {
       "output_type": "stream",
       "stream": "stdout",
       "text": [
        "Effective Strength: 91.462\n"
       ]
      }
     ],
     "prompt_number": 3
    },
    {
     "cell_type": "markdown",
     "metadata": {},
     "source": [
      "####a. Will the infection spread across the network (i.e., result on an epidemic), or will it die quickly?\n",
      "Since the Effective Strength is > 1, the virus will result in an epidemic"
     ]
    },
    {
     "cell_type": "markdown",
     "metadata": {},
     "source": [
      "####b. Keeping \u03b4 fixed, analyze how the value of \u03b2 affects the effective strength of the virus (suggestion: plot your results). What is the minimum transmission probability (\u03b2) that results in a network-wide epidemic?"
     ]
    },
    {
     "cell_type": "code",
     "collapsed": false,
     "input": [
      "def plot_change_beta(g1, g2, D):\n",
      "    b = [i/10.0 for i in range(1,5)]\n",
      "    s = [acn.get_eff_strength(g1, g2, i, D) for i in b]\n",
      "    plt.plot(b,s,'o-')\n",
      "    plt.xlabel('Beta')\n",
      "    plt.ylabel('Effective Strength')\n",
      "    plt.show()\n",
      "plot_change_beta(graph1, graph2, D1)"
     ],
     "language": "python",
     "metadata": {},
     "outputs": [],
     "prompt_number": "*"
    },
    {
     "cell_type": "markdown",
     "metadata": {},
     "source": [
      "####c. Keeping \u03b2 fixed, analyze how the value of \u03b4 affects the effective strength of the virus (suggestion: plot your results). What is the maximum healing probability (\u03b4) that results in a network-wide epidemic?"
     ]
    },
    {
     "cell_type": "code",
     "collapsed": false,
     "input": [
      "def plot_change_delta(g1, g2, B):\n",
      "    d = [i/10.0 for i in range(1,5)]\n",
      "    s = [acn.get_eff_strength(g1, g2, B, i) for i in d]\n",
      "    plt.plot(d, s,'o-')\n",
      "    plt.xlabel('Delta')\n",
      "    plt.ylabel('Effective Strength')\n",
      "    plt.show()\n",
      "plot_change_beta(graph1, graph2, B1)"
     ],
     "language": "python",
     "metadata": {},
     "outputs": []
    },
    {
     "cell_type": "markdown",
     "metadata": {},
     "source": [
      "####d. Repeat (1), (1a), (1b) and (1c) with \u03b2 = \u03b2 2 , and \u03b4 = \u03b4 2 ."
     ]
    },
    {
     "cell_type": "code",
     "collapsed": false,
     "input": [
      "eff_strength = acn.get_eff_strength(graph1, graph2, B2, D2)\n",
      "print 'Effective Strength: %0.3f'%(eff_strength)"
     ],
     "language": "python",
     "metadata": {},
     "outputs": []
    },
    {
     "cell_type": "markdown",
     "metadata": {},
     "source": []
    },
    {
     "cell_type": "code",
     "collapsed": false,
     "input": [
      "plot_change_beta(graph1, graph2, D2)"
     ],
     "language": "python",
     "metadata": {},
     "outputs": []
    },
    {
     "cell_type": "markdown",
     "metadata": {},
     "source": []
    },
    {
     "cell_type": "code",
     "collapsed": false,
     "input": [
      "plot_change_delta(graph1, graph2, B2)"
     ],
     "language": "python",
     "metadata": {},
     "outputs": []
    },
    {
     "cell_type": "markdown",
     "metadata": {},
     "source": []
    },
    {
     "cell_type": "code",
     "collapsed": false,
     "input": [],
     "language": "python",
     "metadata": {},
     "outputs": []
    },
    {
     "cell_type": "code",
     "collapsed": false,
     "input": [],
     "language": "python",
     "metadata": {},
     "outputs": []
    }
   ],
   "metadata": {}
  }
 ]
}